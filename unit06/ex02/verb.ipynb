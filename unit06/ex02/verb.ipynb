{
  "cells": [
    {
      "cell_type": "code",
      "execution_count": 2,
      "metadata": {
        "colab": {
          "base_uri": "https://localhost:8080/"
        },
        "id": "Dkc61QBEi8O3",
        "outputId": "4b6d4f7d-8c81-4145-9cc8-fee2af507d64"
      },
      "outputs": [
        {
          "name": "stderr",
          "output_type": "stream",
          "text": [
            "[nltk_data] Downloading package punkt to /root/nltk_data...\n",
            "[nltk_data]   Unzipping tokenizers/punkt.zip.\n",
            "[nltk_data] Downloading package averaged_perceptron_tagger to\n",
            "[nltk_data]     /root/nltk_data...\n",
            "[nltk_data]   Unzipping taggers/averaged_perceptron_tagger.zip.\n"
          ]
        },
        {
          "data": {
            "text/plain": [
              "True"
            ]
          },
          "execution_count": 2,
          "metadata": {},
          "output_type": "execute_result"
        }
      ],
      "source": [
        "import nltk\n",
        "\n",
        "nltk.download('punkt')\n",
        "nltk.download('averaged_perceptron_tagger')"
      ]
    },
    {
      "cell_type": "code",
      "execution_count": 3,
      "metadata": {
        "colab": {
          "base_uri": "https://localhost:8080/"
        },
        "id": "5bImDxUMjZkj",
        "outputId": "36751a89-414d-489a-c361-aba2589b50ed"
      },
      "outputs": [
        {
          "name": "stdout",
          "output_type": "stream",
          "text": [
            "all test case size : 11\n",
            "classification accuracy : 63.63636363636363 %\n"
          ]
        }
      ],
      "source": [
        "from enum import Enum\n",
        "import nltk\n",
        "\n",
        "# count_modalized_verbs(sentence: str) : count modalized verbs in sentence\n",
        "#   sentenceを品詞に置き換えて、[\"MD\", \"VB\"] となっている箇所を数える\n",
        "def count_modalized_verbs(sentence: str) -> int:\n",
        "    tokens: list[str] = nltk.word_tokenize(sentence)\n",
        "    tagged: list[tuple[str, str]] = nltk.pos_tag(tokens)\n",
        "\n",
        "    count = 0\n",
        "\n",
        "    for i in range(len(tagged)-1):\n",
        "        tag = tagged[i]\n",
        "        next_tag = tagged[i+1]\n",
        "\n",
        "        if tag == \"MD\" and next_tag == \"VB\":\n",
        "            count += 1\n",
        "\n",
        "    return count\n",
        "\n",
        "\n",
        "# count_tensed_verbs(sentence: str) : count tensed verbs in sentence\n",
        "#   sentenceを品詞に置き換えて、[\"VBD\" | \"VBG\" | \"VBN\" | \"VBP\" | \"VBZ\"] となっている箇所を数える\n",
        "def count_tensed_verbs(sentence: str) -> int:\n",
        "    tokens: list[str] = nltk.word_tokenize(sentence)\n",
        "    tagged: list[tuple[str, str]] = nltk.pos_tag(tokens)\n",
        "\n",
        "    count = 0\n",
        "\n",
        "    for i in range(len(tagged)):\n",
        "        tag = tagged[i]\n",
        "\n",
        "        if tag in [\"VBD\", \"VBG\", \"VBN\", \"VBP\", \"VBZ\"]:\n",
        "            count += 1\n",
        "\n",
        "    return count\n",
        "\n",
        "\n",
        "# is_tensed(sentence: str) : return true if sentence is \"tensed sentence\"\n",
        "#.  \"tensed sentence\" means using many times tensed verb in the sentence (I created the word)\n",
        "#   tensed verbの数がmodalized verbの数より多いならTrueとしてる\n",
        "def is_tensed(sentence: str) -> bool:\n",
        "    return count_tensed_verbs(sentence) > count_modalized_verbs(sentence)\n",
        "\n",
        "\n",
        "# VerbCategory : category of verb about one sentence\n",
        "#   TENSED : その文がtensed verbが多く使われていることを示す\n",
        "#   MODALIZED : その文がmodalized verbが多く使われていることを示す\n",
        "class VerbCategory(Enum):\n",
        "    TENSED = 1\n",
        "    MODALIZED = 2\n",
        "\n",
        "\n",
        "# classify_adjective(sentence: str) : classify adjective about one sentence\n",
        "def classify_verb(sentence: str) -> VerbCategory:\n",
        "    if is_tensed(sentence):\n",
        "        return VerbCategory.TENSED\n",
        "\n",
        "    return VerbCategory.MODALIZED\n",
        "\n",
        "\n",
        "def main():\n",
        "    # テストを用意して、正確性を確認する\n",
        "    tensed_sentences: list[str] = [\n",
        "        \"The police found it.\",\n",
        "        \"I ate a cake.\",\n",
        "        \"She has a nice bag.\",\n",
        "        \"We want to go to aizu.\"\n",
        "    ]\n",
        "\n",
        "    modalized_sentences: list[str] = [\n",
        "        \"The police may have found it.\",\n",
        "        \"You can do it.\",\n",
        "        \"I will eat the dinner.\",\n",
        "        \"I should buy a milk.\",\n",
        "        \"Would you like something to drink?\",\n",
        "        \"Can I visit that place?\",\n",
        "        \"I have to finish this homework.\"\n",
        "    ]\n",
        "\n",
        "    correct = 0\n",
        "    for sentence in tensed_sentences:\n",
        "        if classify_verb(sentence) == VerbCategory.TENSED:\n",
        "            correct += 1\n",
        "\n",
        "    for sentence in modalized_sentences:\n",
        "        if classify_verb(sentence) == VerbCategory.MODALIZED:\n",
        "            correct += 1\n",
        "\n",
        "\n",
        "    all_size = len(tensed_sentences) + len(modalized_sentences)\n",
        "\n",
        "    print(\"all test case size :\", all_size)\n",
        "    print(\"classification accuracy :\", correct / all_size * 100, \"%\")\n",
        "\n",
        "\n",
        "main()"
      ]
    }
  ],
  "metadata": {
    "colab": {
      "provenance": []
    },
    "kernelspec": {
      "display_name": "Python 3",
      "name": "python3"
    },
    "language_info": {
      "name": "python"
    }
  },
  "nbformat": 4,
  "nbformat_minor": 0
}
