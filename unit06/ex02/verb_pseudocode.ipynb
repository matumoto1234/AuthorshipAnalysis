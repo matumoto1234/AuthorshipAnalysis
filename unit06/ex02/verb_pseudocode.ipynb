{
  "nbformat": 4,
  "nbformat_minor": 0,
  "metadata": {
    "colab": {
      "provenance": []
    },
    "kernelspec": {
      "name": "python3",
      "display_name": "Python 3"
    },
    "language_info": {
      "name": "python"
    }
  },
  "cells": [
    {
      "cell_type": "code",
      "execution_count": null,
      "metadata": {
        "id": "o3ADuSCNpsFb"
      },
      "outputs": [],
      "source": [
        "# Team I\n",
        "# Hibiki Matsumoto(Team Leader) : contribution 30%\n",
        "# Yuto Takamune : contribution 20%\n",
        "# Syunsuke Suzuki : contribtion 30%\n",
        "# Takeshi Kato : contribution 20%\n",
        "\n",
        "\n",
        "\n",
        "# The pseudocode of classification verbs in a sentence.\n",
        "# This code classify a given sentence is \"tensed sentence\" or \"modalized sentence\"\n",
        "# \"tensed sentence\" means appearing many times tensed verbs in a sentence.\n",
        "# \"modalized sentence\" means appearing many times modalized verbs in a sentence.\n",
        "\n",
        "def is_tensed_sentence(sentence):\n",
        "    return count_tensed_verbs(sentence) > count_modalized_verbs(sentence)\n",
        "\n",
        "\n",
        "def main():\n",
        "\n",
        "    tensed_sentences = get_tensed_sentences()\n",
        "\n",
        "    tensed_sentence_count = 0\n",
        "\n",
        "    for sentence in tensed_sentences:\n",
        "        if is_tensed_sentence(sentence):\n",
        "          tensed_sentence_count += 1\n",
        "\n",
        "    modalized_sentences = get_modalized_sentences()\n",
        "\n",
        "    modalized_sentence_count = 0\n",
        "\n",
        "    for sentence in modalized_sentences:\n",
        "        if not is_tensed_sentence(sentence):\n",
        "            modalized_sntence_count += 1\n",
        "\n",
        "    all_len = len(tensed_sentences) + len(modalized_sntences)\n",
        "    accuracy = (tensed_sentence_count + modalized_sentence_count) / all_len\n",
        "\n",
        "    print(accuracy)"
      ]
    }
  ]
}