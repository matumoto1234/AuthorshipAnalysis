{
  "nbformat": 4,
  "nbformat_minor": 0,
  "metadata": {
    "colab": {
      "provenance": []
    },
    "kernelspec": {
      "name": "python3",
      "display_name": "Python 3"
    },
    "language_info": {
      "name": "python"
    }
  },
  "cells": [
    {
      "cell_type": "code",
      "execution_count": 10,
      "metadata": {
        "id": "i7XbG0d7RwCH",
        "colab": {
          "base_uri": "https://localhost:8080/"
        },
        "outputId": "df0130df-d5cb-42ec-e0a8-b9ee08c296bf"
      },
      "outputs": [
        {
          "output_type": "stream",
          "name": "stdout",
          "text": [
            "5916\n",
            "4084\n"
          ]
        }
      ],
      "source": [
        "import pandas\n",
        "\n",
        "# ここでcsvを読み込んで、pandasのDataFrame型にする\n",
        "# 必要であれば色々前処理をする\n",
        "def read_csv() -> pandas.DataFrame:\n",
        "    # google drive path\n",
        "    csv = pandas.read_csv('/content/drive/MyDrive/UniversityOfAizu/2023-Q1/authorship-analysis-using-python/archive/blogtext.csv', nrows = 10000)\n",
        "    return csv\n",
        "\n",
        "\n",
        "def main():\n",
        "    csv = read_csv()\n",
        "\n",
        "    # male_authors, female_authorsの構築\n",
        "    male_authors: list[str] = []\n",
        "    female_authors: list[str] = []\n",
        "\n",
        "    for i in range(len(csv)):\n",
        "        author = csv[i:i+1]['sign'].values[0]\n",
        "        gender = csv[i:i+1]['gender'].values[0]\n",
        "\n",
        "        if gender == 'male':\n",
        "            male_authors.append(author)\n",
        "        elif gender == 'female':\n",
        "            female_authors.append(author)\n",
        "\n",
        "    # author_to_textsの構築\n",
        "    author_to_texts: dict[str, list[list[str]]] = {}\n",
        "\n",
        "    for i in range(len(csv)):\n",
        "        author = csv[i:i+1]['sign'].values[0]\n",
        "        text = csv[i:i+1]['text'].values[0]\n",
        "\n",
        "        if author in author_to_texts:\n",
        "            author_to_texts[author].append(text)\n",
        "        else:\n",
        "            author_to_texts[author] = [text]\n",
        "\n",
        "    print(len(male_authors))\n",
        "    print(len(female_authors))\n",
        "\n",
        "\n",
        "main()"
      ]
    }
  ]
}